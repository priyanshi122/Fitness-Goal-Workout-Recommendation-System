{
  "nbformat": 4,
  "nbformat_minor": 0,
  "metadata": {
    "colab": {
      "provenance": [],
      "authorship_tag": "ABX9TyP4RwFo28CnWRV7m29qpWI+",
      "include_colab_link": true
    },
    "kernelspec": {
      "name": "python3",
      "display_name": "Python 3"
    },
    "language_info": {
      "name": "python"
    }
  },
  "cells": [
    {
      "cell_type": "markdown",
      "metadata": {
        "id": "view-in-github",
        "colab_type": "text"
      },
      "source": [
        "<a href=\"https://colab.research.google.com/github/priyanshi122/Fitness-Goal-Workout-Recommendation-System/blob/main/workoutplan.ipynb\" target=\"_parent\"><img src=\"https://colab.research.google.com/assets/colab-badge.svg\" alt=\"Open In Colab\"/></a>"
      ]
    },
    {
      "cell_type": "code",
      "execution_count": 6,
      "metadata": {
        "id": "7cvBPYO3sRy4",
        "outputId": "f29f1e00-35bc-4569-ada8-fc7cac08db2c",
        "colab": {
          "base_uri": "https://localhost:8080/"
        }
      },
      "outputs": [
        {
          "output_type": "stream",
          "name": "stdout",
          "text": [
            "Enter Gender (Male/Female): Male\n",
            "Enter Weight (kg): 65\n",
            "Enter Height (cm): 185\n",
            "Enter Body Fat Percentage: 7\n",
            "Enter Resting Heart Rate (BPM): 85\n",
            "Enter Workout Frequency (days per week): 7\n",
            "✅ Your BMI is: 18.99 (Normal weight)\n",
            "\n",
            "✅ Recommended Fitness Goal: Muscle Gain\n",
            "✅ Recommended Workout Plan: Strength Training\n"
          ]
        }
      ],
      "source": [
        "import pandas as pd\n",
        "import numpy as np\n",
        "from sklearn.model_selection import train_test_split\n",
        "from sklearn.ensemble import RandomForestClassifier\n",
        "from sklearn.preprocessing import LabelEncoder\n",
        "\n",
        "# Sample dataset creation\n",
        "data = {\n",
        "    'gender': ['Male', 'Female', 'Male', 'Female', 'Male', 'Female'],\n",
        "    'bmi': [28, 22, 30, 18, 25, 21],\n",
        "    'body_fat_percentage': [26, 20, 30, 15, 24, 17],\n",
        "    'resting_heart_rate': [85, 75, 90, 65, 80, 72],\n",
        "    'workout_frequency': [2, 4, 1, 5, 3, 4],\n",
        "    'fitness_goal': ['Weight Loss', 'Strength Building', 'Weight Loss', 'Muscle Gain', 'General Fitness', 'Endurance Improvement']\n",
        "}\n",
        "\n",
        "df = pd.DataFrame(data)\n",
        "\n",
        "# Encoding categorical variables\n",
        "encoders = {}\n",
        "encoders['gender'] = LabelEncoder()\n",
        "df['gender'] = encoders['gender'].fit_transform(df['gender'])\n",
        "encoders['fitness_goal'] = LabelEncoder()\n",
        "df['fitness_goal'] = encoders['fitness_goal'].fit_transform(df['fitness_goal'])\n",
        "\n",
        "# Splitting dataset\n",
        "X = df[['gender', 'bmi', 'body_fat_percentage', 'resting_heart_rate', 'workout_frequency']]\n",
        "y = df['fitness_goal']\n",
        "X_train, X_test, y_train, y_test = train_test_split(X, y, test_size=0.2, random_state=42)\n",
        "\n",
        "# Training the model\n",
        "model = RandomForestClassifier()\n",
        "model.fit(X_train, y_train)\n",
        "\n",
        "# Function to classify BMI category\n",
        "def bmi_category(bmi):\n",
        "    if bmi < 18.5:\n",
        "        return \"Underweight\"\n",
        "    elif 18.5 <= bmi < 25:\n",
        "        return \"Normal weight\"\n",
        "    elif 25 <= bmi < 30:\n",
        "        return \"Overweight\"\n",
        "    else:\n",
        "        return \"Obese\"\n",
        "\n",
        "# Function to recommend fitness goal and workout\n",
        "def recommend_fitness_goal_and_workout(gender, weight, height, body_fat, resting_hr, workout_freq):\n",
        "    bmi = round(weight / (height ** 2), 2)  # BMI Calculation\n",
        "    print(f\"✅ Your BMI is: {bmi} ({bmi_category(bmi)})\")\n",
        "\n",
        "    gender_encoded = encoders['gender'].transform([gender])[0]\n",
        "    input_data = pd.DataFrame([[gender_encoded, bmi, body_fat, resting_hr, workout_freq]], columns=X.columns)\n",
        "    goal_pred = model.predict(input_data)\n",
        "    fitness_goal = encoders['fitness_goal'].inverse_transform(goal_pred)[0]\n",
        "\n",
        "    # Define workout based on goal\n",
        "    workouts = {\n",
        "        \"Weight Loss\": \"Cardio & HIIT\",\n",
        "        \"Muscle Gain\": \"Strength Training\",\n",
        "        \"Endurance Improvement\": \"Running & Cycling\",\n",
        "        \"Strength Building\": \"Weight Lifting\",\n",
        "        \"Flexibility & Mobility\": \"Yoga & Stretching\",\n",
        "        \"General Fitness\": \"Balanced Routine\"\n",
        "    }\n",
        "    workout_plan = workouts.get(fitness_goal, \"General Workout Plan\")\n",
        "\n",
        "    return fitness_goal, workout_plan\n",
        "\n",
        "# User Input\n",
        "gender = input(\"Enter Gender (Male/Female): \")\n",
        "weight = float(input(\"Enter Weight (kg): \"))\n",
        "height_cm = float(input(\"Enter Height (cm): \"))\n",
        "height = height_cm / 100  # Convert cm to meters\n",
        "body_fat = float(input(\"Enter Body Fat Percentage: \"))\n",
        "resting_hr = int(input(\"Enter Resting Heart Rate (BPM): \"))\n",
        "workout_freq = int(input(\"Enter Workout Frequency (days per week): \"))\n",
        "\n",
        "# Get Recommendation\n",
        "goal, workout = recommend_fitness_goal_and_workout(gender, weight, height, body_fat, resting_hr, workout_freq)\n",
        "print(f\"\\n✅ Recommended Fitness Goal: {goal}\")\n",
        "print(f\"✅ Recommended Workout Plan: {workout}\")\n"
      ]
    }
  ]
}
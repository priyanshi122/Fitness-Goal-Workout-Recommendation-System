{
  "nbformat": 4,
  "nbformat_minor": 0,
  "metadata": {
    "colab": {
      "provenance": [],
      "authorship_tag": "ABX9TyODdKOR7NzjWHBGamDa67Jq",
      "include_colab_link": true
    },
    "kernelspec": {
      "name": "python3",
      "display_name": "Python 3"
    },
    "language_info": {
      "name": "python"
    }
  },
  "cells": [
    {
      "cell_type": "markdown",
      "metadata": {
        "id": "view-in-github",
        "colab_type": "text"
      },
      "source": [
        "<a href=\"https://colab.research.google.com/github/priyanshi122/Fitness-Goal-Workout-Recommendation-System/blob/main/workoutplan.ipynb\" target=\"_parent\"><img src=\"https://colab.research.google.com/assets/colab-badge.svg\" alt=\"Open In Colab\"/></a>"
      ]
    },
    {
      "cell_type": "code",
      "execution_count": 10,
      "metadata": {
        "id": "7cvBPYO3sRy4",
        "outputId": "2faea574-bb08-48cb-db01-dd3043d3b028",
        "colab": {
          "base_uri": "https://localhost:8080/"
        }
      },
      "outputs": [
        {
          "output_type": "stream",
          "name": "stdout",
          "text": [
            "\n",
            "Enter your details for workout recommendation:\n",
            "Enter your Gender (Male/Female/Other): Female\n",
            "Enter your Weight (kg): 90\n",
            "Enter your Height (cm): 161\n",
            "Enter your Age: 18\n",
            "Enter your Hip size (inch): 40\n",
            "Any Medical Condition? (None/Diabetes/Asthma/Hypertension/Heart Disease/PCOD): PCOD\n",
            "\n",
            "Recommended Goal: Fitness\n",
            "Workout Plan: Focus on yoga, low-impact cardio, and moderate strength training (avoid high-intensity).\n"
          ]
        }
      ],
      "source": [
        "import pandas as pd\n",
        "from sklearn.tree import DecisionTreeClassifier\n",
        "\n",
        "# -------------------------------\n",
        "# Training Data (Example)\n",
        "# -------------------------------\n",
        "data = {\n",
        "    'Gender': [0, 1, 0, 1, 2, 0],  # 0=Female, 1=Male, 2=Other\n",
        "    'Weight': [47, 80, 60, 90, 55, 70],\n",
        "    'Height': [161, 175, 168, 180, 160, 170],\n",
        "    'Age': [18, 25, 30, 40, 22, 35],\n",
        "    'Hip': [32, 36, 34, 38, 33, 37],\n",
        "    'MedicalCondition': [5, 0, 2, 3, 1, 4]\n",
        "    # 0=None, 1=Diabetes, 2=Asthma, 3=Hypertension, 4=Heart Disease, 5=PCOD\n",
        "}\n",
        "\n",
        "goals = ['Fitness', 'Weight Loss', 'Strength', 'Weight Loss', 'Fitness', 'Strength']\n",
        "\n",
        "df = pd.DataFrame(data)\n",
        "\n",
        "# Train Decision Tree\n",
        "model = DecisionTreeClassifier()\n",
        "model.fit(df, goals)\n",
        "\n",
        "# -------------------------------\n",
        "# User Input Section\n",
        "# -------------------------------\n",
        "print(\"\\nEnter your details for workout recommendation:\")\n",
        "\n",
        "gender_input = input(\"Enter your Gender (Male/Female/Other): \")\n",
        "if gender_input.lower() == \"female\":\n",
        "    gender = 0\n",
        "elif gender_input.lower() == \"male\":\n",
        "    gender = 1\n",
        "else:\n",
        "    gender = 2\n",
        "\n",
        "weight = int(input(\"Enter your Weight (kg): \"))\n",
        "height = int(input(\"Enter your Height (cm): \"))\n",
        "age = int(input(\"Enter your Age: \"))\n",
        "hip = int(input(\"Enter your Hip size (inch): \"))\n",
        "\n",
        "medical_input = input(\"Any Medical Condition? (None/Diabetes/Asthma/Hypertension/Heart Disease/PCOD): \")\n",
        "medical_conditions = {\"none\": 0, \"diabetes\": 1, \"asthma\": 2, \"hypertension\": 3, \"heart disease\": 4, \"pcod\": 5}\n",
        "medical_condition = medical_conditions.get(medical_input.lower(), 0)\n",
        "\n",
        "# -------------------------------\n",
        "# Convert Input to DataFrame (Fix for Warning)\n",
        "# -------------------------------\n",
        "user_input = pd.DataFrame([{\n",
        "    \"Gender\": gender,\n",
        "    \"Weight\": weight,\n",
        "    \"Height\": height,\n",
        "    \"Age\": age,\n",
        "    \"Hip\": hip,\n",
        "    \"MedicalCondition\": medical_condition\n",
        "}])\n",
        "\n",
        "# -------------------------------\n",
        "# Prediction\n",
        "# -------------------------------\n",
        "predicted_goal = model.predict(user_input)[0]\n",
        "\n",
        "print(\"\\nRecommended Goal:\", predicted_goal)\n",
        "\n",
        "# -------------------------------\n",
        "# Workout Recommendation (Updated for All Conditions)\n",
        "# -------------------------------\n",
        "if medical_condition == 0:\n",
        "    print(\"Workout Plan: General balanced plan with cardio, strength, and flexibility training 4-5 days/week.\")\n",
        "elif medical_condition == 1:\n",
        "    print(\"Workout Plan: Low-impact cardio (walking, cycling), strength training, and yoga to manage blood sugar.\")\n",
        "elif medical_condition == 2:\n",
        "    print(\"Workout Plan: Light cardio (walking, swimming), breathing exercises, and yoga. Avoid high-intensity workouts.\")\n",
        "elif medical_condition == 3:\n",
        "    print(\"Workout Plan: Moderate cardio, yoga, meditation, and light strength training. Avoid heavy lifting.\")\n",
        "elif medical_condition == 4:\n",
        "    print(\"Workout Plan: Very light cardio (walking, cycling), supervised resistance training, and flexibility exercises.\")\n",
        "elif medical_condition == 5:\n",
        "    print(\"Workout Plan: Focus on yoga, low-impact cardio, and moderate strength training (avoid high-intensity).\")\n",
        "else:\n",
        "    # Fallback to ML-based goal if no special medical condition\n",
        "    if predicted_goal == \"Weight Loss\":\n",
        "        print(\"Workout Plan: Cardio + HIIT + Strength training 5 days a week.\")\n",
        "    elif predicted_goal == \"Fitness\":\n",
        "        print(\"Workout Plan: Balanced workout plan with cardio, yoga, and moderate strength training 4-5 days a week.\")\n",
        "    elif predicted_goal == \"Strength\":\n",
        "        print(\"Workout Plan: Heavy strength training with progressive overload 4 days a week.\")\n",
        "    else:\n",
        "        print(\"Workout Plan: General fitness plan with mixed activities.\")\n"
      ]
    }
  ]
}